{
 "cells": [
  {
   "cell_type": "markdown",
   "metadata": {},
   "source": [
    "# Olist's Net Promoter Score (NPS) 🔥\n",
    "\n",
    "The **Net Promoter Score (NPS)** of a service answers the following question:\n",
    "\n",
    "> How likely is it that you would recommend our company/product/service to a friend or colleague?\n",
    "\n",
    "For a service rated between 1 and 5 stars, like Olist, we can **classify customers into three categories** based on their answers:\n",
    "- ✅ **Promoters**: customers who answered  with a score of 5\n",
    "- 😴 **Passive**: customers who answered with a score of 4 \n",
    "- 😡 **Detractors**: customers who answered with a score between 1 and 3 (inclusive)\n",
    "\n",
    "<br>\n",
    "\n",
    "👉 NPS is computed by subtracting the percentage of customers who are **detractors** from the percentage of customers who are **promoters**. The score can range between -100 and 100, where a negative score means that the number of Dectractors outweighs the Promoters, and the other way\n",
    "\n",
    "> NPS  \n",
    "= % Promoters - % Detractors   \n",
    "= (# Promoter - # Detractors) / # Reviews  \n",
    "= (# 5 stars - # <4 stars) / # Reviews"
   ]
  },
  {
   "cell_type": "markdown",
   "metadata": {},
   "source": [
    "## Import modules"
   ]
  },
  {
   "cell_type": "code",
   "execution_count": 7,
   "metadata": {},
   "outputs": [
    {
     "name": "stdout",
     "output_type": "stream",
     "text": [
      "The autoreload extension is already loaded. To reload it, use:\n",
      "  %reload_ext autoreload\n"
     ]
    }
   ],
   "source": [
    "%load_ext autoreload\n",
    "%autoreload 2\n",
    "\n",
    "import os\n",
    "import sys"
   ]
  },
  {
   "cell_type": "code",
   "execution_count": 8,
   "metadata": {},
   "outputs": [],
   "source": [
    "root_path = os.path.join(os.getcwd(),'..')\n",
    "if root_path not in sys.path:\n",
    "    sys.path.append(root_path)\n",
    "\n",
    "from utils.data import Olist\n",
    "from utils.order import Order\n",
    "\n",
    "olist_instance = Olist()\n",
    "data = olist_instance.get_data()\n",
    "\n",
    "order_instance = Order()\n",
    "orders = order_instance.get_training_data()"
   ]
  },
  {
   "cell_type": "markdown",
   "metadata": {},
   "source": [
    "## 1. Computing the Overall NPS Score of Olist"
   ]
  },
  {
   "cell_type": "markdown",
   "metadata": {},
   "source": [
    "- `review_score` is **5** 👉 `nps_class` is **1** (promoter)\n",
    "- `review_score` is **4** 👉 `nps_class` is **0** (passive)\n",
    "- `review_score` is **3** or less 👉 `nps_class` is **-1** (detractor)"
   ]
  },
  {
   "cell_type": "code",
   "execution_count": 31,
   "metadata": {
    "jupyter": {
     "outputs_hidden": true
    }
   },
   "outputs": [
    {
     "name": "stdout",
     "output_type": "stream",
     "text": [
      "NPS = 38.1\n"
     ]
    }
   ],
   "source": [
    "orders['promoter_score'] = orders['review_score'].apply(lambda x: 1 if x == 5 else (0 if x == 4 else -1))\n",
    "nps = orders['promoter_score'].mean()\n",
    "\n",
    "print(f'NPS = {nps*100:.1f}')"
   ]
  }
 ],
 "metadata": {
  "kernelspec": {
   "display_name": "Python 3",
   "language": "python",
   "name": "python3"
  },
  "language_info": {
   "codemirror_mode": {
    "name": "ipython",
    "version": 3
   },
   "file_extension": ".py",
   "mimetype": "text/x-python",
   "name": "python",
   "nbconvert_exporter": "python",
   "pygments_lexer": "ipython3",
   "version": "3.10.6"
  }
 },
 "nbformat": 4,
 "nbformat_minor": 4
}
